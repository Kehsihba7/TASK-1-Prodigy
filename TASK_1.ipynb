{
  "nbformat": 4,
  "nbformat_minor": 0,
  "metadata": {
    "colab": {
      "provenance": []
    },
    "kernelspec": {
      "name": "python3",
      "display_name": "Python 3"
    },
    "language_info": {
      "name": "python"
    }
  },
  "cells": [
    {
      "cell_type": "code",
      "execution_count": null,
      "metadata": {
        "colab": {
          "base_uri": "https://localhost:8080/"
        },
        "id": "OLGlivSkqcJh",
        "outputId": "0f3de983-fba2-4547-8da6-12e96e82f897"
      },
      "outputs": [
        {
          "output_type": "stream",
          "name": "stdout",
          "text": [
            "Choose an option:\n",
            "1. Encrypt\n",
            "2. Decrypt\n",
            "3. Exit\n",
            "1\n",
            "Enter the message to encrypt: Abhishek\n",
            "Enter the shift value: 3\n",
            "Encrypted message: Deklvkhn\n",
            "Choose an option:\n",
            "1. Encrypt\n",
            "2. Decrypt\n",
            "3. Exit\n",
            "2\n",
            "Enter the message to decrypt: Abhishek\n",
            "Enter the shift value: 3\n",
            "Decrypted message: >_efpebh\n"
          ]
        }
      ],
      "source": [
        "def caesar_cipher_encrypt(text, shift):\n",
        "    encrypted_text = \"\"\n",
        "    for char in text:\n",
        "        if char.isalpha():\n",
        "            shifted = ord(char) + shift\n",
        "            if char.islower():\n",
        "                if shifted > ord('z'):\n",
        "                    shifted -= 26\n",
        "            elif char.isupper():\n",
        "                if shifted > ord('Z'):\n",
        "                    shifted -= 26\n",
        "            encrypted_text += chr(shifted)\n",
        "        else:\n",
        "            encrypted_text += char\n",
        "    return encrypted_text\n",
        "\n",
        "def caesar_cipher_decrypt(text, shift):\n",
        "    return caesar_cipher_encrypt(text, -shift)\n",
        "\n",
        "def main():\n",
        "    while True:\n",
        "        choice = input(\"Choose an option:\\n1. Encrypt\\n2. Decrypt\\n3. Exit\\n\")\n",
        "\n",
        "        if choice == \"1\":\n",
        "            message = input(\"Enter the message to encrypt: \")\n",
        "            shift = int(input(\"Enter the shift value: \"))\n",
        "            encrypted_message = caesar_cipher_encrypt(message, shift)\n",
        "            print(\"Encrypted message:\", encrypted_message)\n",
        "        elif choice == \"2\":\n",
        "            message = input(\"Enter the message to decrypt: \")\n",
        "            shift = int(input(\"Enter the shift value: \"))\n",
        "            decrypted_message = caesar_cipher_decrypt(message, shift)\n",
        "            print(\"Decrypted message:\", decrypted_message)\n",
        "        elif choice == \"3\":\n",
        "            print(\"Exiting program.\")\n",
        "            break\n",
        "        else:\n",
        "            print(\"Invalid choice. Please enter 1, 2, or 3.\")\n",
        "\n",
        "if __name__ == \"__main__\":\n",
        "    main()\n"
      ]
    }
  ]
}